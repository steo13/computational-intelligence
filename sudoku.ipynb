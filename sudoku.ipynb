{
 "cells": [
  {
   "cell_type": "code",
   "execution_count": 1,
   "metadata": {},
   "outputs": [],
   "source": [
    "import logging\n",
    "from collections import deque\n",
    "from pprint import pprint\n",
    "import numpy as np\n",
    "\n",
    "logging.basicConfig(format='[%(asctime)s] %(levelname)s: %(message)s', datefmt='%H:%M:%S', level=logging.INFO)"
   ]
  },
  {
   "cell_type": "code",
   "execution_count": 2,
   "metadata": {},
   "outputs": [],
   "source": [
    "def _contains_duplicates(X):\n",
    "    return np.sum(np.unique(X)) != np.sum(X)\n",
    "\n",
    "def contains_duplicates(sol):\n",
    "    return any(_contains_duplicates(sol[r,:]) for r in range(9)) or \\\n",
    "           any(_contains_duplicates(sol[:,r]) for r in range(9)) or \\\n",
    "           any(_contains_duplicates(sol[r:r+3:,c:c+3]) for r in range(0,9,3) for c in range(0,9,3))\n",
    "\n",
    "def check_duplicates(node, x, y, value):\n",
    "    new_node = node.copy()\n",
    "    new_node[x, y] = value\n",
    "    return contains_duplicates(new_node)\n",
    "\n",
    "def valid_solution(sol):\n",
    "    return not contains_duplicates(sol) and np.sum(sol) == (1+2+3+4+5+6+7+8+9) * 9\n",
    "\n",
    "def print_sudoku(sudoku):\n",
    "    print(\"+-------+-------+-------+\")\n",
    "    for b in range(0, 9, 3):\n",
    "        for r in range(3):\n",
    "            print(\"|\", \" | \".join(\" \".join(str(_) for _ in sudoku[b+r, c:c+3]) for c in range(0, 9, 3)), \"|\")\n",
    "        print(\"+-------+-------+-------+\")"
   ]
  },
  {
   "cell_type": "code",
   "execution_count": 3,
   "metadata": {},
   "outputs": [],
   "source": [
    "def dfsolve(sudoku):\n",
    "    \"\"\"Vanilla depth-first solver for sudoku puzzles\"\"\"\n",
    "    frontier = deque([sudoku.copy()])\n",
    "    num_nodes = 0\n",
    "    while frontier:\n",
    "        node = frontier.popleft()\n",
    "        num_nodes += 1\n",
    "\n",
    "        if valid_solution(node):\n",
    "            logging.info(f\"Solved after expanding {num_nodes:,} nodes\")\n",
    "            return node\n",
    "\n",
    "        possible_nodes = []\n",
    "        for i, j in zip(*np.where(node == 0)):\n",
    "            counter = 0\n",
    "            for c in range(1, 10):\n",
    "                if not check_duplicates(node, i, j, c):\n",
    "                    counter += 1\n",
    "            possible_nodes.append((node, i, j, counter))\n",
    "\n",
    "        possible_nodes = sorted(possible_nodes, key=lambda nodes : nodes[3])\n",
    "        \n",
    "        for p, i, j, _ in possible_nodes:\n",
    "            for c in range(1, 10):\n",
    "                p[i, j] = c\n",
    "                if not contains_duplicates(p):\n",
    "                    frontier.appendleft(p.copy())\n",
    "                      \n",
    "    logging.info(f\"Giving up after expanding {num_nodes:,} nodes\")\n",
    "    return None"
   ]
  },
  {
   "cell_type": "code",
   "execution_count": 6,
   "metadata": {},
   "outputs": [],
   "source": [
    "simple_sudoku = np.array([[6, 0, 4,    0, 7, 0,    0, 0, 1],\n",
    "                          [0, 5, 0,    0, 0, 0,    0, 7, 0], \n",
    "                          [7, 0, 0,    5, 9, 6,    8, 3, 4], \n",
    "       \n",
    "                          [0, 8, 0,    0, 0, 2,    4, 9, 0], \n",
    "                          [1, 0, 0,    0, 0, 0,    0, 0, 3], \n",
    "                          [0, 6, 9,    7, 0, 0,    0, 5, 0], \n",
    "       \n",
    "                          [9, 1, 8,    3, 6, 7,    0, 0, 5], \n",
    "                          [0, 4, 0,    0, 0, 0,    0, 6, 0], \n",
    "                          [2, 0, 0,    0, 5, 0,    7, 0, 8]], dtype=np.int8)"
   ]
  },
  {
   "cell_type": "code",
   "execution_count": 4,
   "metadata": {},
   "outputs": [],
   "source": [
    "def sudoku_generator(sudokus=1, *, kappa=5, random_seed=None):\n",
    "    if random_seed:\n",
    "        np.random.seed(random_seed)\n",
    "    for puzzle in range(sudokus):\n",
    "        sudoku = np.zeros((9, 9), dtype=np.int8)\n",
    "        for cell in range(np.random.randint(kappa)):        #range tra 0 e il numero casuale generato tra 0 e 5\n",
    "            for p, val in zip(np.random.randint(0, 8, size=(9, 2)), range(1, 10)):\n",
    "                tmp = sudoku.copy()\n",
    "                sudoku[tuple(p)] = val\n",
    "                if contains_duplicates(sudoku):\n",
    "                    sudoku = tmp\n",
    "        yield sudoku.copy()"
   ]
  },
  {
   "cell_type": "code",
   "execution_count": 10,
   "metadata": {},
   "outputs": [
    {
     "name": "stdout",
     "output_type": "stream",
     "text": [
      "+-------+-------+-------+\n",
      "| 0 7 0 | 0 0 0 | 0 6 0 |\n",
      "| 0 4 0 | 8 0 0 | 0 2 0 |\n",
      "| 6 5 0 | 0 9 0 | 0 0 0 |\n",
      "+-------+-------+-------+\n",
      "| 8 1 0 | 0 0 0 | 0 0 0 |\n",
      "| 0 0 3 | 4 0 1 | 0 0 0 |\n",
      "| 0 0 0 | 2 0 7 | 0 0 0 |\n",
      "+-------+-------+-------+\n",
      "| 0 0 0 | 0 0 0 | 0 0 0 |\n",
      "| 0 0 5 | 9 6 0 | 7 0 0 |\n",
      "| 0 0 0 | 0 0 0 | 0 0 0 |\n",
      "+-------+-------+-------+\n"
     ]
    },
    {
     "name": "stderr",
     "output_type": "stream",
     "text": [
      "[17:13:16] INFO: Solved after expanding 57 nodes\n"
     ]
    },
    {
     "name": "stdout",
     "output_type": "stream",
     "text": [
      "+-------+-------+-------+\n",
      "| 2 7 8 | 3 4 5 | 9 6 1 |\n",
      "| 3 4 9 | 8 1 6 | 5 2 7 |\n",
      "| 6 5 1 | 7 9 2 | 8 3 4 |\n",
      "+-------+-------+-------+\n",
      "| 8 1 2 | 6 5 9 | 4 7 3 |\n",
      "| 7 9 3 | 4 8 1 | 6 5 2 |\n",
      "| 5 6 4 | 2 3 7 | 1 8 9 |\n",
      "+-------+-------+-------+\n",
      "| 9 8 7 | 5 2 4 | 3 1 6 |\n",
      "| 1 2 5 | 9 6 3 | 7 4 8 |\n",
      "| 4 3 6 | 1 7 8 | 2 9 5 |\n",
      "+-------+-------+-------+\n"
     ]
    }
   ],
   "source": [
    "for sudoku in sudoku_generator(random_seed=44):\n",
    "    print_sudoku(sudoku)\n",
    "    solution = dfsolve(sudoku)\n",
    "    if solution is not None:\n",
    "        print_sudoku(solution)"
   ]
  },
  {
   "cell_type": "markdown",
   "metadata": {},
   "source": []
  }
 ],
 "metadata": {
  "interpreter": {
   "hash": "6ac2f9cd77e44939dfe2e8c5e55479b510649dfd860984544293108e4d0c9bd6"
  },
  "kernelspec": {
   "display_name": "Python 3.8.8 64-bit ('base': conda)",
   "name": "python3"
  },
  "language_info": {
   "codemirror_mode": {
    "name": "ipython",
    "version": 3
   },
   "file_extension": ".py",
   "mimetype": "text/x-python",
   "name": "python",
   "nbconvert_exporter": "python",
   "pygments_lexer": "ipython3",
   "version": "3.8.8"
  },
  "orig_nbformat": 4
 },
 "nbformat": 4,
 "nbformat_minor": 2
}
