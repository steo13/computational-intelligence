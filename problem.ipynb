{
 "cells": [
  {
   "cell_type": "code",
   "execution_count": 1,
   "metadata": {},
   "outputs": [],
   "source": [
    "import random\n",
    "from collections import deque"
   ]
  },
  {
   "cell_type": "code",
   "execution_count": 2,
   "metadata": {},
   "outputs": [],
   "source": [
    "BLOCKS = [random.randint(1, 10) for _ in range(20)]\n",
    "GOAL = 42"
   ]
  },
  {
   "cell_type": "code",
   "execution_count": 4,
   "metadata": {},
   "outputs": [
    {
     "name": "stdout",
     "output_type": "stream",
     "text": [
      "Whoa! Found a solution in 12 steps\n",
      "\t(10, 9, 9, 9, 5)\n"
     ]
    }
   ],
   "source": [
    "states = deque()           #lista di elemetni\n",
    "states.append(((), tuple(sorted(BLOCKS, reverse=False)))) #prima tupla vuota, seconda tupla invece i blocchi posizioni al contrario rispetto a come sono stati generati\n",
    "\n",
    "n = 0\n",
    "while states:\n",
    "    n += 1\n",
    "    current_bag, available_blocks = states.popleft()        #vogliamo verificare che la current_bag sia la soluzione possibile per arrivare a GOAL\n",
    "    #print(f\"Expanding: {current_bag} / {available_blocks}\")\n",
    "    if sum(current_bag) == GOAL:\n",
    "        print(f\"Whoa! Found a solution in {n:,} steps\\n\\t{current_bag}\")\n",
    "        break\n",
    "    if sum(current_bag) > GOAL:\n",
    "        continue\n",
    "    for i, object in enumerate(available_blocks):\n",
    "        new_state = ((*current_bag, object), tuple(available_blocks[:i]+available_blocks[i+1:]))\n",
    "        #states.append(new_state)\n",
    "        states.appendleft(new_state)"
   ]
  }
 ],
 "metadata": {
  "interpreter": {
   "hash": "6ac2f9cd77e44939dfe2e8c5e55479b510649dfd860984544293108e4d0c9bd6"
  },
  "kernelspec": {
   "display_name": "Python 3.8.8 64-bit ('base': conda)",
   "name": "python3"
  },
  "language_info": {
   "codemirror_mode": {
    "name": "ipython",
    "version": 3
   },
   "file_extension": ".py",
   "mimetype": "text/x-python",
   "name": "python",
   "nbconvert_exporter": "python",
   "pygments_lexer": "ipython3",
   "version": "3.8.8"
  },
  "orig_nbformat": 4
 },
 "nbformat": 4,
 "nbformat_minor": 2
}
