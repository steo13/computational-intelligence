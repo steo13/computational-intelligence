{
 "cells": [
  {
   "cell_type": "code",
   "execution_count": 1,
   "metadata": {},
   "outputs": [],
   "source": [
    "import numpy as np"
   ]
  },
  {
   "cell_type": "code",
   "execution_count": 7,
   "metadata": {},
   "outputs": [
    {
     "data": {
      "text/plain": [
       "array([[0.223125, 0.298125, 0.361875, 0.116875],\n",
       "       [0.2265  , 0.3195  , 0.3245  , 0.1295  ],\n",
       "       [0.2195  , 0.2915  , 0.3825  , 0.1065  ],\n",
       "       [0.22225 , 0.29325 , 0.37575 , 0.10875 ]])"
      ]
     },
     "execution_count": 7,
     "metadata": {},
     "output_type": "execute_result"
    }
   ],
   "source": [
    "P = np.array([[1/4, 1/4, 1/4, 1/4],\n",
    "              [.2, .5, .1, .2],\n",
    "              [.2, .2, .6, 0],\n",
    "              [.3, .2, .5, 0]])\n",
    "\n",
    "R = np.array([0, 1, 10, 5])\n",
    "\n",
    "P @ P @ P   #Dove mi trovo in 3 steps"
   ]
  },
  {
   "cell_type": "code",
   "execution_count": 8,
   "metadata": {},
   "outputs": [
    {
     "data": {
      "text/plain": [
       "array([[0.22273782, 0.30162413, 0.35962877, 0.11600928],\n",
       "       [0.22273782, 0.30162413, 0.35962877, 0.11600928],\n",
       "       [0.22273782, 0.30162413, 0.35962877, 0.11600928],\n",
       "       [0.22273782, 0.30162413, 0.35962877, 0.11600928]])"
      ]
     },
     "execution_count": 8,
     "metadata": {},
     "output_type": "execute_result"
    }
   ],
   "source": [
    "#Dopo un numero irrilevante di steps è irrilevante da dove parto\n",
    "tmp = P\n",
    "for i in range(100-1):\n",
    "    tmp = tmp @ P\n",
    "tmp"
   ]
  },
  {
   "cell_type": "code",
   "execution_count": 5,
   "metadata": {},
   "outputs": [],
   "source": [
    "def step(s):\n",
    "    return np.random.choice(list(range(4)), p=P[s])\n",
    "\n",
    "def seq(state, num_step):\n",
    "    tmp = [state]\n",
    "    for i in range(num_step-1):\n",
    "        tmp.append(step(tmp[-1]))\n",
    "    return tmp\n",
    "\n",
    "def v(seq, gamma):\n",
    "    return sum(R[s]*gamma**n for n, s in enumerate(seq))"
   ]
  },
  {
   "cell_type": "code",
   "execution_count": 11,
   "metadata": {},
   "outputs": [
    {
     "name": "stdout",
     "output_type": "stream",
     "text": [
      "State 0:  38.930070\n",
      "State 1:  39.188471\n",
      "State 2:  52.433161\n",
      "State 3:  47.073828\n"
     ]
    }
   ],
   "source": [
    "NUM_SAMPLES = 1_000\n",
    "NUM_STEPS = 200\n",
    "GAMMA = .9\n",
    "\n",
    "for s in range(4):\n",
    "    val = sum(v(seq(s, NUM_STEPS), GAMMA) for _ in range(NUM_STEPS)) / NUM_STEPS\n",
    "    print(f\"State {s}: {val:10.6f}\")"
   ]
  }
 ],
 "metadata": {
  "interpreter": {
   "hash": "63fd5069d213b44bf678585dea6b12cceca9941eaf7f819626cde1f2670de90d"
  },
  "kernelspec": {
   "display_name": "Python 3.9.2 64-bit",
   "language": "python",
   "name": "python3"
  },
  "language_info": {
   "codemirror_mode": {
    "name": "ipython",
    "version": 3
   },
   "file_extension": ".py",
   "mimetype": "text/x-python",
   "name": "python",
   "nbconvert_exporter": "python",
   "pygments_lexer": "ipython3",
   "version": "3.8.8"
  },
  "orig_nbformat": 4
 },
 "nbformat": 4,
 "nbformat_minor": 2
}
